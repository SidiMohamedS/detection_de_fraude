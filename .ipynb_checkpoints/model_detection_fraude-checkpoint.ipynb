{
 "cells": [
  {
   "cell_type": "code",
   "execution_count": 32,
   "id": "tWRg6rCtxZNU",
   "metadata": {
    "id": "tWRg6rCtxZNU"
   },
   "outputs": [],
   "source": [
    "import sklearn\n",
    "import pandas as pd\n",
    "import numpy as np\n",
    "import matplotlib.pyplot as plt\n",
    "import pandas as pd\n",
    "from sklearn.pipeline import Pipeline\n",
    "from sklearn.model_selection import train_test_split\n",
    "import seaborn as sns\n",
    "from sklearn.metrics import accuracy_score, precision_score, recall_score\n",
    "from sklearn.metrics import auc, roc_curve,confusion_matrix, plot_confusion_matrix\n",
    "from sklearn.ensemble import RandomForestClassifier\n",
    "sns.set_theme(style=\"darkgrid\")"
   ]
  },
  {
   "cell_type": "code",
   "execution_count": 34,
   "id": "06ada045",
   "metadata": {},
   "outputs": [
    {
     "data": {
      "text/plain": [
       "'1.0.2'"
      ]
     },
     "execution_count": 34,
     "metadata": {},
     "output_type": "execute_result"
    }
   ],
   "source": [
    "scikit_version = sklearn.__version__\n",
    "scikit_version"
   ]
  },
  {
   "cell_type": "code",
   "execution_count": 4,
   "id": "DxC27jV5VL7A",
   "metadata": {
    "id": "DxC27jV5VL7A"
   },
   "outputs": [],
   "source": [
    "data = pd.read_csv(\"fraude_data.csv\")"
   ]
  },
  {
   "cell_type": "code",
   "execution_count": 5,
   "id": "e63d4e46",
   "metadata": {
    "colab": {
     "base_uri": "https://localhost:8080/"
    },
    "id": "e63d4e46",
    "outputId": "85d196d6-963f-4e51-d577-d6b8a9871b5e"
   },
   "outputs": [
    {
     "data": {
      "text/plain": [
       "(192500, 12)"
      ]
     },
     "execution_count": 5,
     "metadata": {},
     "output_type": "execute_result"
    }
   ],
   "source": [
    "data.shape"
   ]
  },
  {
   "cell_type": "code",
   "execution_count": 6,
   "id": "0AQ12YNlmLgj",
   "metadata": {
    "colab": {
     "base_uri": "https://localhost:8080/"
    },
    "id": "0AQ12YNlmLgj",
    "outputId": "f218cfac-4d0b-4b8e-96cd-232cdf397c8e"
   },
   "outputs": [
    {
     "name": "stdout",
     "output_type": "stream",
     "text": [
      "<class 'pandas.core.frame.DataFrame'>\n",
      "RangeIndex: 192500 entries, 0 to 192499\n",
      "Data columns (total 12 columns):\n",
      " #   Column          Non-Null Count   Dtype  \n",
      "---  ------          --------------   -----  \n",
      " 0   index           192500 non-null  int64  \n",
      " 1   step            192500 non-null  int64  \n",
      " 2   type            192500 non-null  object \n",
      " 3   amount          192500 non-null  float64\n",
      " 4   nameOrig        192500 non-null  object \n",
      " 5   oldbalanceOrg   192500 non-null  float64\n",
      " 6   newbalanceOrig  192500 non-null  float64\n",
      " 7   nameDest        192500 non-null  object \n",
      " 8   oldbalanceDest  192500 non-null  float64\n",
      " 9   newbalanceDest  192500 non-null  float64\n",
      " 10  isFraud         192500 non-null  int64  \n",
      " 11  isFlaggedFraud  192500 non-null  int64  \n",
      "dtypes: float64(5), int64(4), object(3)\n",
      "memory usage: 17.6+ MB\n"
     ]
    }
   ],
   "source": [
    "data.info()"
   ]
  },
  {
   "cell_type": "code",
   "execution_count": 7,
   "id": "ce4ooc8hrF5O",
   "metadata": {
    "colab": {
     "base_uri": "https://localhost:8080/"
    },
    "id": "ce4ooc8hrF5O",
    "outputId": "e8b7629c-48bd-43de-a5a3-e5b20e0c231b"
   },
   "outputs": [
    {
     "data": {
      "text/plain": [
       "index             0\n",
       "step              0\n",
       "type              0\n",
       "amount            0\n",
       "nameOrig          0\n",
       "oldbalanceOrg     0\n",
       "newbalanceOrig    0\n",
       "nameDest          0\n",
       "oldbalanceDest    0\n",
       "newbalanceDest    0\n",
       "isFraud           0\n",
       "isFlaggedFraud    0\n",
       "dtype: int64"
      ]
     },
     "execution_count": 7,
     "metadata": {},
     "output_type": "execute_result"
    }
   ],
   "source": [
    "data.isnull().sum()"
   ]
  },
  {
   "cell_type": "code",
   "execution_count": 8,
   "id": "Hy1FDUxnrYBB",
   "metadata": {
    "colab": {
     "base_uri": "https://localhost:8080/",
     "height": 320
    },
    "id": "Hy1FDUxnrYBB",
    "outputId": "2b24173e-1061-40c0-cfe3-58a8821f216d"
   },
   "outputs": [
    {
     "data": {
      "text/html": [
       "<div>\n",
       "<style scoped>\n",
       "    .dataframe tbody tr th:only-of-type {\n",
       "        vertical-align: middle;\n",
       "    }\n",
       "\n",
       "    .dataframe tbody tr th {\n",
       "        vertical-align: top;\n",
       "    }\n",
       "\n",
       "    .dataframe thead th {\n",
       "        text-align: right;\n",
       "    }\n",
       "</style>\n",
       "<table border=\"1\" class=\"dataframe\">\n",
       "  <thead>\n",
       "    <tr style=\"text-align: right;\">\n",
       "      <th></th>\n",
       "      <th>index</th>\n",
       "      <th>step</th>\n",
       "      <th>amount</th>\n",
       "      <th>oldbalanceOrg</th>\n",
       "      <th>newbalanceOrig</th>\n",
       "      <th>oldbalanceDest</th>\n",
       "      <th>newbalanceDest</th>\n",
       "      <th>isFraud</th>\n",
       "      <th>isFlaggedFraud</th>\n",
       "    </tr>\n",
       "  </thead>\n",
       "  <tbody>\n",
       "    <tr>\n",
       "      <th>count</th>\n",
       "      <td>1.925000e+05</td>\n",
       "      <td>192500.000000</td>\n",
       "      <td>1.925000e+05</td>\n",
       "      <td>1.925000e+05</td>\n",
       "      <td>1.925000e+05</td>\n",
       "      <td>1.925000e+05</td>\n",
       "      <td>1.925000e+05</td>\n",
       "      <td>192500.000000</td>\n",
       "      <td>192500.000000</td>\n",
       "    </tr>\n",
       "    <tr>\n",
       "      <th>mean</th>\n",
       "      <td>3.217914e+06</td>\n",
       "      <td>247.825377</td>\n",
       "      <td>2.261676e+05</td>\n",
       "      <td>8.616604e+05</td>\n",
       "      <td>8.270867e+05</td>\n",
       "      <td>1.084274e+06</td>\n",
       "      <td>1.230771e+06</td>\n",
       "      <td>0.038961</td>\n",
       "      <td>0.000083</td>\n",
       "    </tr>\n",
       "    <tr>\n",
       "      <th>std</th>\n",
       "      <td>1.861619e+06</td>\n",
       "      <td>147.685363</td>\n",
       "      <td>7.720697e+05</td>\n",
       "      <td>2.912266e+06</td>\n",
       "      <td>2.887263e+06</td>\n",
       "      <td>3.297716e+06</td>\n",
       "      <td>3.575349e+06</td>\n",
       "      <td>0.193503</td>\n",
       "      <td>0.009116</td>\n",
       "    </tr>\n",
       "    <tr>\n",
       "      <th>min</th>\n",
       "      <td>2.000000e+00</td>\n",
       "      <td>1.000000</td>\n",
       "      <td>0.000000e+00</td>\n",
       "      <td>0.000000e+00</td>\n",
       "      <td>0.000000e+00</td>\n",
       "      <td>0.000000e+00</td>\n",
       "      <td>0.000000e+00</td>\n",
       "      <td>0.000000</td>\n",
       "      <td>0.000000</td>\n",
       "    </tr>\n",
       "    <tr>\n",
       "      <th>25%</th>\n",
       "      <td>1.593112e+06</td>\n",
       "      <td>156.000000</td>\n",
       "      <td>1.401661e+04</td>\n",
       "      <td>0.000000e+00</td>\n",
       "      <td>0.000000e+00</td>\n",
       "      <td>0.000000e+00</td>\n",
       "      <td>0.000000e+00</td>\n",
       "      <td>0.000000</td>\n",
       "      <td>0.000000</td>\n",
       "    </tr>\n",
       "    <tr>\n",
       "      <th>50%</th>\n",
       "      <td>3.216306e+06</td>\n",
       "      <td>249.000000</td>\n",
       "      <td>8.060089e+04</td>\n",
       "      <td>1.696019e+04</td>\n",
       "      <td>0.000000e+00</td>\n",
       "      <td>1.144710e+05</td>\n",
       "      <td>2.091728e+05</td>\n",
       "      <td>0.000000</td>\n",
       "      <td>0.000000</td>\n",
       "    </tr>\n",
       "    <tr>\n",
       "      <th>75%</th>\n",
       "      <td>4.835272e+06</td>\n",
       "      <td>347.000000</td>\n",
       "      <td>2.188217e+05</td>\n",
       "      <td>1.336372e+05</td>\n",
       "      <td>1.290969e+05</td>\n",
       "      <td>9.127214e+05</td>\n",
       "      <td>1.115385e+06</td>\n",
       "      <td>0.000000</td>\n",
       "      <td>0.000000</td>\n",
       "    </tr>\n",
       "    <tr>\n",
       "      <th>max</th>\n",
       "      <td>6.362619e+06</td>\n",
       "      <td>743.000000</td>\n",
       "      <td>6.988673e+07</td>\n",
       "      <td>5.958504e+07</td>\n",
       "      <td>4.958504e+07</td>\n",
       "      <td>2.511150e+08</td>\n",
       "      <td>2.506381e+08</td>\n",
       "      <td>1.000000</td>\n",
       "      <td>1.000000</td>\n",
       "    </tr>\n",
       "  </tbody>\n",
       "</table>\n",
       "</div>"
      ],
      "text/plain": [
       "              index           step        amount  oldbalanceOrg  \\\n",
       "count  1.925000e+05  192500.000000  1.925000e+05   1.925000e+05   \n",
       "mean   3.217914e+06     247.825377  2.261676e+05   8.616604e+05   \n",
       "std    1.861619e+06     147.685363  7.720697e+05   2.912266e+06   \n",
       "min    2.000000e+00       1.000000  0.000000e+00   0.000000e+00   \n",
       "25%    1.593112e+06     156.000000  1.401661e+04   0.000000e+00   \n",
       "50%    3.216306e+06     249.000000  8.060089e+04   1.696019e+04   \n",
       "75%    4.835272e+06     347.000000  2.188217e+05   1.336372e+05   \n",
       "max    6.362619e+06     743.000000  6.988673e+07   5.958504e+07   \n",
       "\n",
       "       newbalanceOrig  oldbalanceDest  newbalanceDest        isFraud  \\\n",
       "count    1.925000e+05    1.925000e+05    1.925000e+05  192500.000000   \n",
       "mean     8.270867e+05    1.084274e+06    1.230771e+06       0.038961   \n",
       "std      2.887263e+06    3.297716e+06    3.575349e+06       0.193503   \n",
       "min      0.000000e+00    0.000000e+00    0.000000e+00       0.000000   \n",
       "25%      0.000000e+00    0.000000e+00    0.000000e+00       0.000000   \n",
       "50%      0.000000e+00    1.144710e+05    2.091728e+05       0.000000   \n",
       "75%      1.290969e+05    9.127214e+05    1.115385e+06       0.000000   \n",
       "max      4.958504e+07    2.511150e+08    2.506381e+08       1.000000   \n",
       "\n",
       "       isFlaggedFraud  \n",
       "count   192500.000000  \n",
       "mean         0.000083  \n",
       "std          0.009116  \n",
       "min          0.000000  \n",
       "25%          0.000000  \n",
       "50%          0.000000  \n",
       "75%          0.000000  \n",
       "max          1.000000  "
      ]
     },
     "execution_count": 8,
     "metadata": {},
     "output_type": "execute_result"
    }
   ],
   "source": [
    "\n",
    "data.describe()"
   ]
  },
  {
   "cell_type": "code",
   "execution_count": 9,
   "id": "tFtayWvoscdR",
   "metadata": {
    "colab": {
     "base_uri": "https://localhost:8080/"
    },
    "id": "tFtayWvoscdR",
    "outputId": "71b66c9d-d569-475a-a7e2-462738726f5f"
   },
   "outputs": [
    {
     "data": {
      "text/plain": [
       "168929"
      ]
     },
     "execution_count": 9,
     "metadata": {},
     "output_type": "execute_result"
    }
   ],
   "source": [
    "data['nameDest'].nunique()\n",
    "# nameDest contient l'identifiant de la personne qui a reçu le montant de la transaction"
   ]
  },
  {
   "cell_type": "code",
   "execution_count": 10,
   "id": "2jm1FO20tIsR",
   "metadata": {
    "colab": {
     "base_uri": "https://localhost:8080/"
    },
    "id": "2jm1FO20tIsR",
    "outputId": "b08e7736-e74a-484d-8af5-0a9fdcf499fc"
   },
   "outputs": [
    {
     "data": {
      "text/plain": [
       "192494"
      ]
     },
     "execution_count": 10,
     "metadata": {},
     "output_type": "execute_result"
    }
   ],
   "source": [
    "data['nameOrig'].nunique()\n",
    "# nameOrig contient l'identifiant de la personne qui a transféré le montant de la transaction"
   ]
  },
  {
   "cell_type": "code",
   "execution_count": 11,
   "id": "Rmyzuaseu58r",
   "metadata": {
    "colab": {
     "base_uri": "https://localhost:8080/",
     "height": 226
    },
    "id": "Rmyzuaseu58r",
    "outputId": "92f3f4ec-d003-48bd-af92-c05a7b8292b3"
   },
   "outputs": [
    {
     "data": {
      "text/html": [
       "<div>\n",
       "<style scoped>\n",
       "    .dataframe tbody tr th:only-of-type {\n",
       "        vertical-align: middle;\n",
       "    }\n",
       "\n",
       "    .dataframe tbody tr th {\n",
       "        vertical-align: top;\n",
       "    }\n",
       "\n",
       "    .dataframe thead th {\n",
       "        text-align: right;\n",
       "    }\n",
       "</style>\n",
       "<table border=\"1\" class=\"dataframe\">\n",
       "  <thead>\n",
       "    <tr style=\"text-align: right;\">\n",
       "      <th></th>\n",
       "      <th>step</th>\n",
       "      <th>type</th>\n",
       "      <th>amount</th>\n",
       "      <th>oldbalanceOrg</th>\n",
       "      <th>newbalanceOrig</th>\n",
       "      <th>oldbalanceDest</th>\n",
       "      <th>newbalanceDest</th>\n",
       "      <th>isFraud</th>\n",
       "      <th>isFlaggedFraud</th>\n",
       "    </tr>\n",
       "  </thead>\n",
       "  <tbody>\n",
       "    <tr>\n",
       "      <th>178505</th>\n",
       "      <td>20</td>\n",
       "      <td>CASH_IN</td>\n",
       "      <td>141171.17</td>\n",
       "      <td>14958879.89</td>\n",
       "      <td>15100051.06</td>\n",
       "      <td>1165404.51</td>\n",
       "      <td>1444921.45</td>\n",
       "      <td>0</td>\n",
       "      <td>0</td>\n",
       "    </tr>\n",
       "    <tr>\n",
       "      <th>82240</th>\n",
       "      <td>163</td>\n",
       "      <td>CASH_OUT</td>\n",
       "      <td>270544.31</td>\n",
       "      <td>1094.00</td>\n",
       "      <td>0.00</td>\n",
       "      <td>0.00</td>\n",
       "      <td>270544.31</td>\n",
       "      <td>0</td>\n",
       "      <td>0</td>\n",
       "    </tr>\n",
       "    <tr>\n",
       "      <th>107220</th>\n",
       "      <td>304</td>\n",
       "      <td>CASH_OUT</td>\n",
       "      <td>178893.90</td>\n",
       "      <td>0.00</td>\n",
       "      <td>0.00</td>\n",
       "      <td>11259696.25</td>\n",
       "      <td>11438590.15</td>\n",
       "      <td>0</td>\n",
       "      <td>0</td>\n",
       "    </tr>\n",
       "    <tr>\n",
       "      <th>15615</th>\n",
       "      <td>43</td>\n",
       "      <td>PAYMENT</td>\n",
       "      <td>3051.70</td>\n",
       "      <td>11146.00</td>\n",
       "      <td>8094.30</td>\n",
       "      <td>0.00</td>\n",
       "      <td>0.00</td>\n",
       "      <td>0</td>\n",
       "      <td>0</td>\n",
       "    </tr>\n",
       "    <tr>\n",
       "      <th>164114</th>\n",
       "      <td>204</td>\n",
       "      <td>CASH_OUT</td>\n",
       "      <td>176967.18</td>\n",
       "      <td>0.00</td>\n",
       "      <td>0.00</td>\n",
       "      <td>3725080.92</td>\n",
       "      <td>3902048.11</td>\n",
       "      <td>0</td>\n",
       "      <td>0</td>\n",
       "    </tr>\n",
       "  </tbody>\n",
       "</table>\n",
       "</div>"
      ],
      "text/plain": [
       "        step      type     amount  oldbalanceOrg  newbalanceOrig  \\\n",
       "178505    20   CASH_IN  141171.17    14958879.89     15100051.06   \n",
       "82240    163  CASH_OUT  270544.31        1094.00            0.00   \n",
       "107220   304  CASH_OUT  178893.90           0.00            0.00   \n",
       "15615     43   PAYMENT    3051.70       11146.00         8094.30   \n",
       "164114   204  CASH_OUT  176967.18           0.00            0.00   \n",
       "\n",
       "        oldbalanceDest  newbalanceDest  isFraud  isFlaggedFraud  \n",
       "178505      1165404.51      1444921.45        0               0  \n",
       "82240             0.00       270544.31        0               0  \n",
       "107220     11259696.25     11438590.15        0               0  \n",
       "15615             0.00            0.00        0               0  \n",
       "164114      3725080.92      3902048.11        0               0  "
      ]
     },
     "execution_count": 11,
     "metadata": {},
     "output_type": "execute_result"
    }
   ],
   "source": [
    "# suppression de trois colonnes\n",
    "data= data.drop(labels = ['index','nameOrig', 'nameDest'], axis=1)\n",
    "\n",
    "data.sample(5)"
   ]
  },
  {
   "cell_type": "code",
   "execution_count": 12,
   "id": "jW_0WDi4lZ_5",
   "metadata": {
    "colab": {
     "base_uri": "https://localhost:8080/",
     "height": 226
    },
    "id": "jW_0WDi4lZ_5",
    "outputId": "4bb4e9e2-db37-470d-e86b-61423727bdd7"
   },
   "outputs": [
    {
     "data": {
      "text/html": [
       "<div>\n",
       "<style scoped>\n",
       "    .dataframe tbody tr th:only-of-type {\n",
       "        vertical-align: middle;\n",
       "    }\n",
       "\n",
       "    .dataframe tbody tr th {\n",
       "        vertical-align: top;\n",
       "    }\n",
       "\n",
       "    .dataframe thead th {\n",
       "        text-align: right;\n",
       "    }\n",
       "</style>\n",
       "<table border=\"1\" class=\"dataframe\">\n",
       "  <thead>\n",
       "    <tr style=\"text-align: right;\">\n",
       "      <th></th>\n",
       "      <th>step</th>\n",
       "      <th>type</th>\n",
       "      <th>amount</th>\n",
       "      <th>oldbalanceOrg</th>\n",
       "      <th>newbalanceOrig</th>\n",
       "      <th>oldbalanceDest</th>\n",
       "      <th>newbalanceDest</th>\n",
       "      <th>isFraud</th>\n",
       "      <th>isFlaggedFraud</th>\n",
       "    </tr>\n",
       "  </thead>\n",
       "  <tbody>\n",
       "    <tr>\n",
       "      <th>14678</th>\n",
       "      <td>12</td>\n",
       "      <td>CASH_OUT</td>\n",
       "      <td>51602.26</td>\n",
       "      <td>0.00</td>\n",
       "      <td>0.00</td>\n",
       "      <td>123088.69</td>\n",
       "      <td>458550.85</td>\n",
       "      <td>0</td>\n",
       "      <td>0</td>\n",
       "    </tr>\n",
       "    <tr>\n",
       "      <th>22475</th>\n",
       "      <td>16</td>\n",
       "      <td>CASH_IN</td>\n",
       "      <td>77013.02</td>\n",
       "      <td>1610383.11</td>\n",
       "      <td>1687396.13</td>\n",
       "      <td>1773749.74</td>\n",
       "      <td>1696736.72</td>\n",
       "      <td>0</td>\n",
       "      <td>0</td>\n",
       "    </tr>\n",
       "    <tr>\n",
       "      <th>159798</th>\n",
       "      <td>18</td>\n",
       "      <td>CASH_OUT</td>\n",
       "      <td>139369.43</td>\n",
       "      <td>476.00</td>\n",
       "      <td>0.00</td>\n",
       "      <td>5150176.56</td>\n",
       "      <td>5289545.99</td>\n",
       "      <td>0</td>\n",
       "      <td>0</td>\n",
       "    </tr>\n",
       "    <tr>\n",
       "      <th>156996</th>\n",
       "      <td>23</td>\n",
       "      <td>PAYMENT</td>\n",
       "      <td>733.82</td>\n",
       "      <td>0.00</td>\n",
       "      <td>0.00</td>\n",
       "      <td>0.00</td>\n",
       "      <td>0.00</td>\n",
       "      <td>0</td>\n",
       "      <td>0</td>\n",
       "    </tr>\n",
       "    <tr>\n",
       "      <th>33491</th>\n",
       "      <td>19</td>\n",
       "      <td>CASH_OUT</td>\n",
       "      <td>150211.51</td>\n",
       "      <td>0.00</td>\n",
       "      <td>0.00</td>\n",
       "      <td>680995.02</td>\n",
       "      <td>831206.53</td>\n",
       "      <td>0</td>\n",
       "      <td>0</td>\n",
       "    </tr>\n",
       "  </tbody>\n",
       "</table>\n",
       "</div>"
      ],
      "text/plain": [
       "        step      type     amount  oldbalanceOrg  newbalanceOrig  \\\n",
       "14678     12  CASH_OUT   51602.26           0.00            0.00   \n",
       "22475     16   CASH_IN   77013.02     1610383.11      1687396.13   \n",
       "159798    18  CASH_OUT  139369.43         476.00            0.00   \n",
       "156996    23   PAYMENT     733.82           0.00            0.00   \n",
       "33491     19  CASH_OUT  150211.51           0.00            0.00   \n",
       "\n",
       "        oldbalanceDest  newbalanceDest  isFraud  isFlaggedFraud  \n",
       "14678        123088.69       458550.85        0               0  \n",
       "22475       1773749.74      1696736.72        0               0  \n",
       "159798      5150176.56      5289545.99        0               0  \n",
       "156996            0.00            0.00        0               0  \n",
       "33491        680995.02       831206.53        0               0  "
      ]
     },
     "execution_count": 12,
     "metadata": {},
     "output_type": "execute_result"
    }
   ],
   "source": [
    "data['step'] =data['step']  %24\n",
    "data.sample(5)"
   ]
  },
  {
   "cell_type": "code",
   "execution_count": 13,
   "id": "7psgR7nebvMc",
   "metadata": {
    "colab": {
     "base_uri": "https://localhost:8080/"
    },
    "id": "7psgR7nebvMc",
    "outputId": "c4f44fa8-1d80-48f9-96ce-c02261c5e531"
   },
   "outputs": [
    {
     "data": {
      "text/plain": [
       "(87998, 9)"
      ]
     },
     "execution_count": 13,
     "metadata": {},
     "output_type": "execute_result"
    }
   ],
   "source": [
    "data =data.loc[(data.type == 'TRANSFER') |   (data.type == 'CASH_OUT')]\n",
    "data.shape"
   ]
  },
  {
   "cell_type": "code",
   "execution_count": 14,
   "id": "MkmbjD2wb7-X",
   "metadata": {
    "colab": {
     "base_uri": "https://localhost:8080/",
     "height": 226
    },
    "id": "MkmbjD2wb7-X",
    "outputId": "ba30543a-540e-405c-a854-3176ccdfb60e",
    "scrolled": true
   },
   "outputs": [
    {
     "data": {
      "text/html": [
       "<div>\n",
       "<style scoped>\n",
       "    .dataframe tbody tr th:only-of-type {\n",
       "        vertical-align: middle;\n",
       "    }\n",
       "\n",
       "    .dataframe tbody tr th {\n",
       "        vertical-align: top;\n",
       "    }\n",
       "\n",
       "    .dataframe thead th {\n",
       "        text-align: right;\n",
       "    }\n",
       "</style>\n",
       "<table border=\"1\" class=\"dataframe\">\n",
       "  <thead>\n",
       "    <tr style=\"text-align: right;\">\n",
       "      <th></th>\n",
       "      <th>step</th>\n",
       "      <th>type</th>\n",
       "      <th>amount</th>\n",
       "      <th>oldbalanceOrg</th>\n",
       "      <th>newbalanceOrig</th>\n",
       "      <th>oldbalanceDest</th>\n",
       "      <th>newbalanceDest</th>\n",
       "      <th>isFraud</th>\n",
       "      <th>isFlaggedFraud</th>\n",
       "      <th>type_TRANSFER</th>\n",
       "    </tr>\n",
       "  </thead>\n",
       "  <tbody>\n",
       "    <tr>\n",
       "      <th>0</th>\n",
       "      <td>11</td>\n",
       "      <td>CASH_OUT</td>\n",
       "      <td>427818.23</td>\n",
       "      <td>198219.0</td>\n",
       "      <td>0.00</td>\n",
       "      <td>0.00</td>\n",
       "      <td>427818.23</td>\n",
       "      <td>0</td>\n",
       "      <td>0</td>\n",
       "      <td>0</td>\n",
       "    </tr>\n",
       "    <tr>\n",
       "      <th>2</th>\n",
       "      <td>20</td>\n",
       "      <td>CASH_OUT</td>\n",
       "      <td>80828.54</td>\n",
       "      <td>0.0</td>\n",
       "      <td>0.00</td>\n",
       "      <td>5149991.49</td>\n",
       "      <td>5230820.04</td>\n",
       "      <td>0</td>\n",
       "      <td>0</td>\n",
       "      <td>0</td>\n",
       "    </tr>\n",
       "    <tr>\n",
       "      <th>3</th>\n",
       "      <td>20</td>\n",
       "      <td>TRANSFER</td>\n",
       "      <td>106069.89</td>\n",
       "      <td>301258.0</td>\n",
       "      <td>195188.11</td>\n",
       "      <td>263816.83</td>\n",
       "      <td>369886.72</td>\n",
       "      <td>0</td>\n",
       "      <td>0</td>\n",
       "      <td>1</td>\n",
       "    </tr>\n",
       "    <tr>\n",
       "      <th>6</th>\n",
       "      <td>18</td>\n",
       "      <td>CASH_OUT</td>\n",
       "      <td>402832.90</td>\n",
       "      <td>11665.0</td>\n",
       "      <td>0.00</td>\n",
       "      <td>28550.98</td>\n",
       "      <td>431383.87</td>\n",
       "      <td>0</td>\n",
       "      <td>0</td>\n",
       "      <td>0</td>\n",
       "    </tr>\n",
       "    <tr>\n",
       "      <th>12</th>\n",
       "      <td>22</td>\n",
       "      <td>CASH_OUT</td>\n",
       "      <td>34643.49</td>\n",
       "      <td>0.0</td>\n",
       "      <td>0.00</td>\n",
       "      <td>346081.41</td>\n",
       "      <td>380724.90</td>\n",
       "      <td>0</td>\n",
       "      <td>0</td>\n",
       "      <td>0</td>\n",
       "    </tr>\n",
       "  </tbody>\n",
       "</table>\n",
       "</div>"
      ],
      "text/plain": [
       "    step      type     amount  oldbalanceOrg  newbalanceOrig  oldbalanceDest  \\\n",
       "0     11  CASH_OUT  427818.23       198219.0            0.00            0.00   \n",
       "2     20  CASH_OUT   80828.54            0.0            0.00      5149991.49   \n",
       "3     20  TRANSFER  106069.89       301258.0       195188.11       263816.83   \n",
       "6     18  CASH_OUT  402832.90        11665.0            0.00        28550.98   \n",
       "12    22  CASH_OUT   34643.49            0.0            0.00       346081.41   \n",
       "\n",
       "    newbalanceDest  isFraud  isFlaggedFraud  type_TRANSFER  \n",
       "0        427818.23        0               0              0  \n",
       "2       5230820.04        0               0              0  \n",
       "3        369886.72        0               0              1  \n",
       "6        431383.87        0               0              0  \n",
       "12       380724.90        0               0              0  "
      ]
     },
     "execution_count": 14,
     "metadata": {},
     "output_type": "execute_result"
    }
   ],
   "source": [
    "data = pd.concat([data,\n",
    "                              pd.get_dummies(data['type'],\n",
    "                                             prefix = 'type', drop_first = True)],\n",
    "                              axis = 1)\n",
    "\n",
    "data.head()"
   ]
  },
  {
   "cell_type": "code",
   "execution_count": 15,
   "id": "bW42sUZ5cQlz",
   "metadata": {
    "colab": {
     "base_uri": "https://localhost:8080/",
     "height": 226
    },
    "id": "bW42sUZ5cQlz",
    "outputId": "ab69adb6-7504-4bfc-dacb-de749ffe2f25"
   },
   "outputs": [
    {
     "data": {
      "text/html": [
       "<div>\n",
       "<style scoped>\n",
       "    .dataframe tbody tr th:only-of-type {\n",
       "        vertical-align: middle;\n",
       "    }\n",
       "\n",
       "    .dataframe tbody tr th {\n",
       "        vertical-align: top;\n",
       "    }\n",
       "\n",
       "    .dataframe thead th {\n",
       "        text-align: right;\n",
       "    }\n",
       "</style>\n",
       "<table border=\"1\" class=\"dataframe\">\n",
       "  <thead>\n",
       "    <tr style=\"text-align: right;\">\n",
       "      <th></th>\n",
       "      <th>step</th>\n",
       "      <th>amount</th>\n",
       "      <th>oldbalanceOrg</th>\n",
       "      <th>newbalanceOrig</th>\n",
       "      <th>oldbalanceDest</th>\n",
       "      <th>newbalanceDest</th>\n",
       "      <th>isFraud</th>\n",
       "      <th>type_TRANSFER</th>\n",
       "    </tr>\n",
       "  </thead>\n",
       "  <tbody>\n",
       "    <tr>\n",
       "      <th>0</th>\n",
       "      <td>11</td>\n",
       "      <td>427818.23</td>\n",
       "      <td>198219.0</td>\n",
       "      <td>0.00</td>\n",
       "      <td>0.00</td>\n",
       "      <td>427818.23</td>\n",
       "      <td>0</td>\n",
       "      <td>0</td>\n",
       "    </tr>\n",
       "    <tr>\n",
       "      <th>2</th>\n",
       "      <td>20</td>\n",
       "      <td>80828.54</td>\n",
       "      <td>0.0</td>\n",
       "      <td>0.00</td>\n",
       "      <td>5149991.49</td>\n",
       "      <td>5230820.04</td>\n",
       "      <td>0</td>\n",
       "      <td>0</td>\n",
       "    </tr>\n",
       "    <tr>\n",
       "      <th>3</th>\n",
       "      <td>20</td>\n",
       "      <td>106069.89</td>\n",
       "      <td>301258.0</td>\n",
       "      <td>195188.11</td>\n",
       "      <td>263816.83</td>\n",
       "      <td>369886.72</td>\n",
       "      <td>0</td>\n",
       "      <td>1</td>\n",
       "    </tr>\n",
       "    <tr>\n",
       "      <th>6</th>\n",
       "      <td>18</td>\n",
       "      <td>402832.90</td>\n",
       "      <td>11665.0</td>\n",
       "      <td>0.00</td>\n",
       "      <td>28550.98</td>\n",
       "      <td>431383.87</td>\n",
       "      <td>0</td>\n",
       "      <td>0</td>\n",
       "    </tr>\n",
       "    <tr>\n",
       "      <th>12</th>\n",
       "      <td>22</td>\n",
       "      <td>34643.49</td>\n",
       "      <td>0.0</td>\n",
       "      <td>0.00</td>\n",
       "      <td>346081.41</td>\n",
       "      <td>380724.90</td>\n",
       "      <td>0</td>\n",
       "      <td>0</td>\n",
       "    </tr>\n",
       "  </tbody>\n",
       "</table>\n",
       "</div>"
      ],
      "text/plain": [
       "    step     amount  oldbalanceOrg  newbalanceOrig  oldbalanceDest  \\\n",
       "0     11  427818.23       198219.0            0.00            0.00   \n",
       "2     20   80828.54            0.0            0.00      5149991.49   \n",
       "3     20  106069.89       301258.0       195188.11       263816.83   \n",
       "6     18  402832.90        11665.0            0.00        28550.98   \n",
       "12    22   34643.49            0.0            0.00       346081.41   \n",
       "\n",
       "    newbalanceDest  isFraud  type_TRANSFER  \n",
       "0        427818.23        0              0  \n",
       "2       5230820.04        0              0  \n",
       "3        369886.72        0              1  \n",
       "6        431383.87        0              0  \n",
       "12       380724.90        0              0  "
      ]
     },
     "execution_count": 15,
     "metadata": {},
     "output_type": "execute_result"
    }
   ],
   "source": [
    "data = data.drop(labels = ['type','isFlaggedFraud'], axis = 1)\n",
    "data.head()"
   ]
  },
  {
   "cell_type": "code",
   "execution_count": 16,
   "id": "WyukxhzyePQf",
   "metadata": {
    "colab": {
     "base_uri": "https://localhost:8080/"
    },
    "id": "WyukxhzyePQf",
    "outputId": "a5222a52-c1f3-438a-dad1-99e4ca0bec28"
   },
   "outputs": [
    {
     "data": {
      "text/plain": [
       "0    80498\n",
       "1     7500\n",
       "Name: isFraud, dtype: int64"
      ]
     },
     "execution_count": 16,
     "metadata": {},
     "output_type": "execute_result"
    }
   ],
   "source": [
    "data['isFraud'].value_counts()"
   ]
  },
  {
   "cell_type": "code",
   "execution_count": 17,
   "id": "n2Vs-ZAPebMT",
   "metadata": {
    "id": "n2Vs-ZAPebMT"
   },
   "outputs": [],
   "source": [
    "data['origBalanceDiscrepancy'] = \\\n",
    "   data.newbalanceOrig + data.amount -data.oldbalanceOrg\n",
    "\n",
    "data['destBalanceDiscrepancy'] = \\\n",
    "    data.oldbalanceDest + data.amount - data.newbalanceDest"
   ]
  },
  {
   "cell_type": "code",
   "execution_count": 18,
   "id": "7jb5AJlcf2d_",
   "metadata": {
    "id": "7jb5AJlcf2d_"
   },
   "outputs": [],
   "source": [
    "data.to_csv('preprocessed_transaction_data.csv', index=False)"
   ]
  },
  {
   "cell_type": "code",
   "execution_count": 19,
   "id": "Np3U64OMfucq",
   "metadata": {
    "colab": {
     "base_uri": "https://localhost:8080/",
     "height": 226
    },
    "id": "Np3U64OMfucq",
    "outputId": "6b23ba7f-6449-496f-ab6f-aa7fd697548f"
   },
   "outputs": [
    {
     "data": {
      "text/html": [
       "<div>\n",
       "<style scoped>\n",
       "    .dataframe tbody tr th:only-of-type {\n",
       "        vertical-align: middle;\n",
       "    }\n",
       "\n",
       "    .dataframe tbody tr th {\n",
       "        vertical-align: top;\n",
       "    }\n",
       "\n",
       "    .dataframe thead th {\n",
       "        text-align: right;\n",
       "    }\n",
       "</style>\n",
       "<table border=\"1\" class=\"dataframe\">\n",
       "  <thead>\n",
       "    <tr style=\"text-align: right;\">\n",
       "      <th></th>\n",
       "      <th>step</th>\n",
       "      <th>amount</th>\n",
       "      <th>oldbalanceOrg</th>\n",
       "      <th>newbalanceOrig</th>\n",
       "      <th>oldbalanceDest</th>\n",
       "      <th>newbalanceDest</th>\n",
       "      <th>isFraud</th>\n",
       "      <th>type_TRANSFER</th>\n",
       "      <th>origBalanceDiscrepancy</th>\n",
       "      <th>destBalanceDiscrepancy</th>\n",
       "    </tr>\n",
       "  </thead>\n",
       "  <tbody>\n",
       "    <tr>\n",
       "      <th>87988</th>\n",
       "      <td>21</td>\n",
       "      <td>973805.75</td>\n",
       "      <td>973805.75</td>\n",
       "      <td>0.0</td>\n",
       "      <td>0.00</td>\n",
       "      <td>0.00</td>\n",
       "      <td>1</td>\n",
       "      <td>1</td>\n",
       "      <td>0.0</td>\n",
       "      <td>973805.75</td>\n",
       "    </tr>\n",
       "    <tr>\n",
       "      <th>87989</th>\n",
       "      <td>10</td>\n",
       "      <td>45077.10</td>\n",
       "      <td>45077.10</td>\n",
       "      <td>0.0</td>\n",
       "      <td>0.00</td>\n",
       "      <td>0.00</td>\n",
       "      <td>1</td>\n",
       "      <td>1</td>\n",
       "      <td>0.0</td>\n",
       "      <td>45077.10</td>\n",
       "    </tr>\n",
       "    <tr>\n",
       "      <th>87990</th>\n",
       "      <td>3</td>\n",
       "      <td>6351930.74</td>\n",
       "      <td>6351930.74</td>\n",
       "      <td>0.0</td>\n",
       "      <td>475618.00</td>\n",
       "      <td>6827548.75</td>\n",
       "      <td>1</td>\n",
       "      <td>0</td>\n",
       "      <td>0.0</td>\n",
       "      <td>-0.01</td>\n",
       "    </tr>\n",
       "    <tr>\n",
       "      <th>87991</th>\n",
       "      <td>9</td>\n",
       "      <td>348983.86</td>\n",
       "      <td>348983.86</td>\n",
       "      <td>0.0</td>\n",
       "      <td>0.00</td>\n",
       "      <td>0.00</td>\n",
       "      <td>1</td>\n",
       "      <td>1</td>\n",
       "      <td>0.0</td>\n",
       "      <td>348983.86</td>\n",
       "    </tr>\n",
       "    <tr>\n",
       "      <th>87992</th>\n",
       "      <td>18</td>\n",
       "      <td>40388.58</td>\n",
       "      <td>40388.58</td>\n",
       "      <td>0.0</td>\n",
       "      <td>0.00</td>\n",
       "      <td>0.00</td>\n",
       "      <td>1</td>\n",
       "      <td>1</td>\n",
       "      <td>0.0</td>\n",
       "      <td>40388.58</td>\n",
       "    </tr>\n",
       "    <tr>\n",
       "      <th>87993</th>\n",
       "      <td>20</td>\n",
       "      <td>19742.71</td>\n",
       "      <td>19742.71</td>\n",
       "      <td>0.0</td>\n",
       "      <td>2098671.68</td>\n",
       "      <td>2118414.39</td>\n",
       "      <td>1</td>\n",
       "      <td>0</td>\n",
       "      <td>0.0</td>\n",
       "      <td>0.00</td>\n",
       "    </tr>\n",
       "    <tr>\n",
       "      <th>87994</th>\n",
       "      <td>14</td>\n",
       "      <td>298365.86</td>\n",
       "      <td>298365.86</td>\n",
       "      <td>0.0</td>\n",
       "      <td>0.00</td>\n",
       "      <td>298365.86</td>\n",
       "      <td>1</td>\n",
       "      <td>0</td>\n",
       "      <td>0.0</td>\n",
       "      <td>0.00</td>\n",
       "    </tr>\n",
       "    <tr>\n",
       "      <th>87995</th>\n",
       "      <td>14</td>\n",
       "      <td>1468304.35</td>\n",
       "      <td>1468304.35</td>\n",
       "      <td>0.0</td>\n",
       "      <td>0.00</td>\n",
       "      <td>0.00</td>\n",
       "      <td>1</td>\n",
       "      <td>1</td>\n",
       "      <td>0.0</td>\n",
       "      <td>1468304.35</td>\n",
       "    </tr>\n",
       "    <tr>\n",
       "      <th>87996</th>\n",
       "      <td>2</td>\n",
       "      <td>2984434.36</td>\n",
       "      <td>2984434.36</td>\n",
       "      <td>0.0</td>\n",
       "      <td>5498919.48</td>\n",
       "      <td>8483353.84</td>\n",
       "      <td>1</td>\n",
       "      <td>0</td>\n",
       "      <td>0.0</td>\n",
       "      <td>0.00</td>\n",
       "    </tr>\n",
       "    <tr>\n",
       "      <th>87997</th>\n",
       "      <td>4</td>\n",
       "      <td>254719.63</td>\n",
       "      <td>254719.63</td>\n",
       "      <td>0.0</td>\n",
       "      <td>0.00</td>\n",
       "      <td>0.00</td>\n",
       "      <td>1</td>\n",
       "      <td>1</td>\n",
       "      <td>0.0</td>\n",
       "      <td>254719.63</td>\n",
       "    </tr>\n",
       "  </tbody>\n",
       "</table>\n",
       "</div>"
      ],
      "text/plain": [
       "       step      amount  oldbalanceOrg  newbalanceOrig  oldbalanceDest  \\\n",
       "87988    21   973805.75      973805.75             0.0            0.00   \n",
       "87989    10    45077.10       45077.10             0.0            0.00   \n",
       "87990     3  6351930.74     6351930.74             0.0       475618.00   \n",
       "87991     9   348983.86      348983.86             0.0            0.00   \n",
       "87992    18    40388.58       40388.58             0.0            0.00   \n",
       "87993    20    19742.71       19742.71             0.0      2098671.68   \n",
       "87994    14   298365.86      298365.86             0.0            0.00   \n",
       "87995    14  1468304.35     1468304.35             0.0            0.00   \n",
       "87996     2  2984434.36     2984434.36             0.0      5498919.48   \n",
       "87997     4   254719.63      254719.63             0.0            0.00   \n",
       "\n",
       "       newbalanceDest  isFraud  type_TRANSFER  origBalanceDiscrepancy  \\\n",
       "87988            0.00        1              1                     0.0   \n",
       "87989            0.00        1              1                     0.0   \n",
       "87990      6827548.75        1              0                     0.0   \n",
       "87991            0.00        1              1                     0.0   \n",
       "87992            0.00        1              1                     0.0   \n",
       "87993      2118414.39        1              0                     0.0   \n",
       "87994       298365.86        1              0                     0.0   \n",
       "87995            0.00        1              1                     0.0   \n",
       "87996      8483353.84        1              0                     0.0   \n",
       "87997            0.00        1              1                     0.0   \n",
       "\n",
       "       destBalanceDiscrepancy  \n",
       "87988               973805.75  \n",
       "87989                45077.10  \n",
       "87990                   -0.01  \n",
       "87991               348983.86  \n",
       "87992                40388.58  \n",
       "87993                    0.00  \n",
       "87994                    0.00  \n",
       "87995              1468304.35  \n",
       "87996                    0.00  \n",
       "87997               254719.63  "
      ]
     },
     "execution_count": 19,
     "metadata": {},
     "output_type": "execute_result"
    }
   ],
   "source": [
    "data_finance= pd.read_csv('preprocessed_transaction_data.csv')\n",
    "data_finance.tail(10)"
   ]
  },
  {
   "cell_type": "code",
   "execution_count": 28,
   "id": "HUN22UqJgmFc",
   "metadata": {
    "id": "HUN22UqJgmFc"
   },
   "outputs": [],
   "source": [
    "X = data_finance.drop(['isFraud'], axis = 1)\n",
    "\n",
    "y = data_finance['isFraud']\n"
   ]
  },
  {
   "cell_type": "code",
   "execution_count": null,
   "id": "53dd056a",
   "metadata": {},
   "outputs": [],
   "source": [
    "# data.to_csv('preprocessed_transaction_data.csv', index=False)"
   ]
  },
  {
   "cell_type": "code",
   "execution_count": 21,
   "id": "IVPDV2bQiHBp",
   "metadata": {
    "colab": {
     "base_uri": "https://localhost:8080/"
    },
    "id": "IVPDV2bQiHBp",
    "outputId": "83ac3a71-0bdd-4577-8dfb-8b832ea22736"
   },
   "outputs": [
    {
     "data": {
      "text/plain": [
       "((61598, 9), (26400, 9))"
      ]
     },
     "execution_count": 21,
     "metadata": {},
     "output_type": "execute_result"
    }
   ],
   "source": [
    "X_train, X_test, y_train, y_test = train_test_split(X, y, test_size = 0.3, random_state = 123)\n",
    "\n",
    "X_train.shape, X_test.shape"
   ]
  },
  {
   "cell_type": "code",
   "execution_count": 29,
   "id": "94112a80",
   "metadata": {},
   "outputs": [
    {
     "data": {
      "text/plain": [
       "((61598,), (26400,))"
      ]
     },
     "execution_count": 29,
     "metadata": {},
     "output_type": "execute_result"
    }
   ],
   "source": [
    "y_train.shape, y_test.shape"
   ]
  },
  {
   "cell_type": "code",
   "execution_count": 47,
   "id": "JKr9U05Xr_-L",
   "metadata": {
    "colab": {
     "base_uri": "https://localhost:8080/",
     "height": 74
    },
    "id": "JKr9U05Xr_-L",
    "outputId": "6bdf7b3d-aacf-47c7-9443-5474b91dd57e"
   },
   "outputs": [],
   "source": [
    "rf_clf = RandomForestClassifier()\n",
    "\n",
    "randforest_clf= rf_clf.fit(X_train, y_train)"
   ]
  },
  {
   "cell_type": "code",
   "execution_count": 48,
   "id": "hd27xQ9vtNyI",
   "metadata": {
    "colab": {
     "base_uri": "https://localhost:8080/"
    },
    "id": "hd27xQ9vtNyI",
    "outputId": "8a08bbd4-34e7-4819-efdd-efc20a2b24ff"
   },
   "outputs": [
    {
     "data": {
      "text/html": [
       "<div>\n",
       "<style scoped>\n",
       "    .dataframe tbody tr th:only-of-type {\n",
       "        vertical-align: middle;\n",
       "    }\n",
       "\n",
       "    .dataframe tbody tr th {\n",
       "        vertical-align: top;\n",
       "    }\n",
       "\n",
       "    .dataframe thead th {\n",
       "        text-align: right;\n",
       "    }\n",
       "</style>\n",
       "<table border=\"1\" class=\"dataframe\">\n",
       "  <thead>\n",
       "    <tr style=\"text-align: right;\">\n",
       "      <th></th>\n",
       "      <th>y_test</th>\n",
       "      <th>y_pred</th>\n",
       "    </tr>\n",
       "  </thead>\n",
       "  <tbody>\n",
       "    <tr>\n",
       "      <th>33147</th>\n",
       "      <td>0</td>\n",
       "      <td>0</td>\n",
       "    </tr>\n",
       "    <tr>\n",
       "      <th>70797</th>\n",
       "      <td>0</td>\n",
       "      <td>0</td>\n",
       "    </tr>\n",
       "    <tr>\n",
       "      <th>64645</th>\n",
       "      <td>0</td>\n",
       "      <td>0</td>\n",
       "    </tr>\n",
       "    <tr>\n",
       "      <th>68223</th>\n",
       "      <td>0</td>\n",
       "      <td>0</td>\n",
       "    </tr>\n",
       "    <tr>\n",
       "      <th>22323</th>\n",
       "      <td>0</td>\n",
       "      <td>0</td>\n",
       "    </tr>\n",
       "    <tr>\n",
       "      <th>...</th>\n",
       "      <td>...</td>\n",
       "      <td>...</td>\n",
       "    </tr>\n",
       "    <tr>\n",
       "      <th>72920</th>\n",
       "      <td>0</td>\n",
       "      <td>0</td>\n",
       "    </tr>\n",
       "    <tr>\n",
       "      <th>64137</th>\n",
       "      <td>0</td>\n",
       "      <td>0</td>\n",
       "    </tr>\n",
       "    <tr>\n",
       "      <th>84628</th>\n",
       "      <td>1</td>\n",
       "      <td>1</td>\n",
       "    </tr>\n",
       "    <tr>\n",
       "      <th>54486</th>\n",
       "      <td>0</td>\n",
       "      <td>0</td>\n",
       "    </tr>\n",
       "    <tr>\n",
       "      <th>71565</th>\n",
       "      <td>0</td>\n",
       "      <td>0</td>\n",
       "    </tr>\n",
       "  </tbody>\n",
       "</table>\n",
       "<p>26400 rows × 2 columns</p>\n",
       "</div>"
      ],
      "text/plain": [
       "       y_test  y_pred\n",
       "33147       0       0\n",
       "70797       0       0\n",
       "64645       0       0\n",
       "68223       0       0\n",
       "22323       0       0\n",
       "...       ...     ...\n",
       "72920       0       0\n",
       "64137       0       0\n",
       "84628       1       1\n",
       "54486       0       0\n",
       "71565       0       0\n",
       "\n",
       "[26400 rows x 2 columns]"
      ]
     },
     "execution_count": 48,
     "metadata": {},
     "output_type": "execute_result"
    }
   ],
   "source": [
    "y_pred_rf = randforest_clf.predict(X_test)\n",
    "\n",
    "pred_result= pd.DataFrame({ 'y_test': y_test,\n",
    "                           'y_pred': y_pred_rf})\n",
    "pred_result"
   ]
  },
  {
   "cell_type": "code",
   "execution_count": 49,
   "id": "AdcGR8mjtTGF",
   "metadata": {
    "colab": {
     "base_uri": "https://localhost:8080/"
    },
    "id": "AdcGR8mjtTGF",
    "outputId": "fdc4ad67-7226-4f55-8176-1efa8d1be066"
   },
   "outputs": [
    {
     "name": "stdout",
     "output_type": "stream",
     "text": [
      "Random Forest\n",
      "\n",
      "Accuracy: 0.9995833333333334\n",
      "Precision: 0.9995557529986673\n",
      "Recall: 0.995575221238938\n"
     ]
    }
   ],
   "source": [
    "print('Random Forest\\n')\n",
    "\n",
    "\n",
    "\n",
    "accuracy = accuracy_score(y_test, y_pred_rf)\n",
    "precision = precision_score(y_test, y_pred_rf)\n",
    "recall = recall_score(y_test, y_pred_rf)\n",
    "\n",
    "\n",
    "print('Accuracy:', accuracy)\n",
    "print('Precision:', precision)\n",
    "print('Recall:', recall)"
   ]
  },
  {
   "cell_type": "code",
   "execution_count": 50,
   "id": "lD385iaHeCvF",
   "metadata": {
    "colab": {
     "base_uri": "https://localhost:8080/"
    },
    "id": "lD385iaHeCvF",
    "outputId": "d3a2524a-69b3-41e6-cbae-63d44a147cbc"
   },
   "outputs": [
    {
     "name": "stdout",
     "output_type": "stream",
     "text": [
      "AUC for Random Forest : 0.9977668981091127\n"
     ]
    }
   ],
   "source": [
    "fpr_rf, tpr_rf, _ = roc_curve(y_test, y_pred_rf)\n",
    "\n",
    "AUC_rf = auc(fpr_rf, tpr_rf)\n",
    "\n",
    "print('AUC for Random Forest :', AUC_rf)"
   ]
  },
  {
   "cell_type": "code",
   "execution_count": 67,
   "id": "4a4268aa",
   "metadata": {},
   "outputs": [],
   "source": [
    "classifier = RandomForestClassifier()\n",
    "clf_pipeline = Pipeline(steps=[('classifer', classifier)])\n",
    "pipeline_model = clf_pipeline.fit(X_train,y_train)"
   ]
  },
  {
   "cell_type": "code",
   "execution_count": 68,
   "id": "ec5b0769",
   "metadata": {},
   "outputs": [],
   "source": [
    "y_pred= pipeline_model.predict(X_test)"
   ]
  },
  {
   "cell_type": "code",
   "execution_count": 69,
   "id": "960a987c",
   "metadata": {},
   "outputs": [],
   "source": [
    "pipe_clf_param= {}\n",
    "\n",
    "pipe_clf_param['pipeline_clf']=pipeline_model\n",
    "pipe_clf_param['sklearn_version'] = scikit_version\n",
    "pipe_clf_param['accuracy']= accuracy\n",
    "pipe_clf_param['precision']= precision\n",
    "pipe_clf_param['recall']=recall\n",
    "pipe_clf_param['AUC_rf ']=AUC_rf "
   ]
  },
  {
   "cell_type": "code",
   "execution_count": 70,
   "id": "3bc9af36",
   "metadata": {},
   "outputs": [],
   "source": [
    "filename= 'models/pipe_clf_checkpoint.joblib'"
   ]
  },
  {
   "cell_type": "code",
   "execution_count": 72,
   "id": "a16fabff",
   "metadata": {},
   "outputs": [
    {
     "data": {
      "text/plain": [
       "['models/pipe_clf_checkpoint.joblib']"
      ]
     },
     "execution_count": 72,
     "metadata": {},
     "output_type": "execute_result"
    }
   ],
   "source": [
    "joblib.dump(pipe_clf_param, filename)"
   ]
  },
  {
   "cell_type": "code",
   "execution_count": 73,
   "id": "5905b853",
   "metadata": {},
   "outputs": [],
   "source": [
    "pipe_clf_checkpoint = joblib.load(filename)"
   ]
  },
  {
   "cell_type": "code",
   "execution_count": 75,
   "id": "a95add52",
   "metadata": {},
   "outputs": [
    {
     "data": {
      "text/plain": [
       "Pipeline(steps=[('classifer', RandomForestClassifier())])"
      ]
     },
     "execution_count": 75,
     "metadata": {},
     "output_type": "execute_result"
    }
   ],
   "source": [
    "reloaded_pipeline = pipe_clf_checkpoint['pipeline_clf']\n",
    "reloaded_pipeline"
   ]
  },
  {
   "cell_type": "code",
   "execution_count": 76,
   "id": "0d849bde",
   "metadata": {},
   "outputs": [],
   "source": [
    "y_pred= reloaded_pipeline.predict(X_test)"
   ]
  },
  {
   "cell_type": "code",
   "execution_count": 78,
   "id": "bf4eab7a",
   "metadata": {},
   "outputs": [
    {
     "data": {
      "text/plain": [
       "0.9995833333333334"
      ]
     },
     "execution_count": 78,
     "metadata": {},
     "output_type": "execute_result"
    }
   ],
   "source": [
    "accuracy_score(y_test, y_pred)"
   ]
  },
  {
   "cell_type": "code",
   "execution_count": 77,
   "id": "6306c046",
   "metadata": {},
   "outputs": [
    {
     "data": {
      "text/plain": [
       "0.9995833333333334"
      ]
     },
     "execution_count": 77,
     "metadata": {},
     "output_type": "execute_result"
    }
   ],
   "source": [
    "pipe_clf_checkpoint['accuracy']"
   ]
  },
  {
   "cell_type": "code",
   "execution_count": null,
   "id": "70efc615",
   "metadata": {},
   "outputs": [],
   "source": []
  }
 ],
 "metadata": {
  "colab": {
   "provenance": []
  },
  "kernelspec": {
   "display_name": "Python 3 (ipykernel)",
   "language": "python",
   "name": "python3"
  },
  "language_info": {
   "codemirror_mode": {
    "name": "ipython",
    "version": 3
   },
   "file_extension": ".py",
   "mimetype": "text/x-python",
   "name": "python",
   "nbconvert_exporter": "python",
   "pygments_lexer": "ipython3",
   "version": "3.9.13"
  }
 },
 "nbformat": 4,
 "nbformat_minor": 5
}
