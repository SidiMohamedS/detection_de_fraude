{
 "cells": [
  {
   "cell_type": "code",
   "execution_count": 2,
   "id": "ec3dc6a2",
   "metadata": {},
   "outputs": [],
   "source": [
    "import pandas as pd\n",
    "import numpy as np\n",
    "import matplotlib.pyplot as plt\n",
    "import pandas as pd\n",
    "\n",
    "import seaborn as sns\n",
    "sns.set_theme(style=\"darkgrid\")\n",
    "\n"
   ]
  },
  {
   "cell_type": "markdown",
   "id": "85baa5ef",
   "metadata": {},
   "source": [
    "Lien de téléchargement\n",
    "\n",
    "\n",
    "https://www.kaggle.com/ealaxi/paysim1?select=PS_20174392719_1491204439457_log.csv\n",
    "\n",
    "Nous pouvons également afficher les 5 premières lignes de l'ensemble de données\n"
   ]
  },
  {
   "cell_type": "code",
   "execution_count": 3,
   "id": "e8d92d86",
   "metadata": {},
   "outputs": [
    {
     "data": {
      "text/html": [
       "<div>\n",
       "<style scoped>\n",
       "    .dataframe tbody tr th:only-of-type {\n",
       "        vertical-align: middle;\n",
       "    }\n",
       "\n",
       "    .dataframe tbody tr th {\n",
       "        vertical-align: top;\n",
       "    }\n",
       "\n",
       "    .dataframe thead th {\n",
       "        text-align: right;\n",
       "    }\n",
       "</style>\n",
       "<table border=\"1\" class=\"dataframe\">\n",
       "  <thead>\n",
       "    <tr style=\"text-align: right;\">\n",
       "      <th></th>\n",
       "      <th>index</th>\n",
       "      <th>step</th>\n",
       "      <th>type</th>\n",
       "      <th>amount</th>\n",
       "      <th>nameOrig</th>\n",
       "      <th>oldbalanceOrg</th>\n",
       "      <th>newbalanceOrig</th>\n",
       "      <th>nameDest</th>\n",
       "      <th>oldbalanceDest</th>\n",
       "      <th>newbalanceDest</th>\n",
       "      <th>isFraud</th>\n",
       "      <th>isFlaggedFraud</th>\n",
       "    </tr>\n",
       "  </thead>\n",
       "  <tbody>\n",
       "    <tr>\n",
       "      <th>0</th>\n",
       "      <td>1577509</td>\n",
       "      <td>155</td>\n",
       "      <td>CASH_OUT</td>\n",
       "      <td>427818.23</td>\n",
       "      <td>C1431817875</td>\n",
       "      <td>198219.00</td>\n",
       "      <td>0.00</td>\n",
       "      <td>C2131020093</td>\n",
       "      <td>0.00</td>\n",
       "      <td>427818.23</td>\n",
       "      <td>0</td>\n",
       "      <td>0</td>\n",
       "    </tr>\n",
       "    <tr>\n",
       "      <th>1</th>\n",
       "      <td>3869859</td>\n",
       "      <td>283</td>\n",
       "      <td>CASH_IN</td>\n",
       "      <td>68154.77</td>\n",
       "      <td>C397915380</td>\n",
       "      <td>2884459.21</td>\n",
       "      <td>2952613.98</td>\n",
       "      <td>C105277746</td>\n",
       "      <td>1030035.29</td>\n",
       "      <td>961880.52</td>\n",
       "      <td>0</td>\n",
       "      <td>0</td>\n",
       "    </tr>\n",
       "    <tr>\n",
       "      <th>2</th>\n",
       "      <td>5516324</td>\n",
       "      <td>380</td>\n",
       "      <td>CASH_OUT</td>\n",
       "      <td>80828.54</td>\n",
       "      <td>C809484944</td>\n",
       "      <td>0.00</td>\n",
       "      <td>0.00</td>\n",
       "      <td>C226553176</td>\n",
       "      <td>5149991.49</td>\n",
       "      <td>5230820.04</td>\n",
       "      <td>0</td>\n",
       "      <td>0</td>\n",
       "    </tr>\n",
       "    <tr>\n",
       "      <th>3</th>\n",
       "      <td>5490462</td>\n",
       "      <td>380</td>\n",
       "      <td>TRANSFER</td>\n",
       "      <td>106069.89</td>\n",
       "      <td>C1857104283</td>\n",
       "      <td>301258.00</td>\n",
       "      <td>195188.11</td>\n",
       "      <td>C1759851095</td>\n",
       "      <td>263816.83</td>\n",
       "      <td>369886.72</td>\n",
       "      <td>0</td>\n",
       "      <td>0</td>\n",
       "    </tr>\n",
       "    <tr>\n",
       "      <th>4</th>\n",
       "      <td>5606765</td>\n",
       "      <td>394</td>\n",
       "      <td>PAYMENT</td>\n",
       "      <td>34530.86</td>\n",
       "      <td>C1774638089</td>\n",
       "      <td>200755.00</td>\n",
       "      <td>166224.14</td>\n",
       "      <td>M1074240731</td>\n",
       "      <td>0.00</td>\n",
       "      <td>0.00</td>\n",
       "      <td>0</td>\n",
       "      <td>0</td>\n",
       "    </tr>\n",
       "    <tr>\n",
       "      <th>...</th>\n",
       "      <td>...</td>\n",
       "      <td>...</td>\n",
       "      <td>...</td>\n",
       "      <td>...</td>\n",
       "      <td>...</td>\n",
       "      <td>...</td>\n",
       "      <td>...</td>\n",
       "      <td>...</td>\n",
       "      <td>...</td>\n",
       "      <td>...</td>\n",
       "      <td>...</td>\n",
       "      <td>...</td>\n",
       "    </tr>\n",
       "    <tr>\n",
       "      <th>192495</th>\n",
       "      <td>1030778</td>\n",
       "      <td>92</td>\n",
       "      <td>CASH_OUT</td>\n",
       "      <td>19742.71</td>\n",
       "      <td>C931340371</td>\n",
       "      <td>19742.71</td>\n",
       "      <td>0.00</td>\n",
       "      <td>C781083195</td>\n",
       "      <td>2098671.68</td>\n",
       "      <td>2118414.39</td>\n",
       "      <td>1</td>\n",
       "      <td>0</td>\n",
       "    </tr>\n",
       "    <tr>\n",
       "      <th>192496</th>\n",
       "      <td>5994750</td>\n",
       "      <td>422</td>\n",
       "      <td>CASH_OUT</td>\n",
       "      <td>298365.86</td>\n",
       "      <td>C1916355655</td>\n",
       "      <td>298365.86</td>\n",
       "      <td>0.00</td>\n",
       "      <td>C1396514823</td>\n",
       "      <td>0.00</td>\n",
       "      <td>298365.86</td>\n",
       "      <td>1</td>\n",
       "      <td>0</td>\n",
       "    </tr>\n",
       "    <tr>\n",
       "      <th>192497</th>\n",
       "      <td>6291211</td>\n",
       "      <td>662</td>\n",
       "      <td>TRANSFER</td>\n",
       "      <td>1468304.35</td>\n",
       "      <td>C151325855</td>\n",
       "      <td>1468304.35</td>\n",
       "      <td>0.00</td>\n",
       "      <td>C1135260060</td>\n",
       "      <td>0.00</td>\n",
       "      <td>0.00</td>\n",
       "      <td>1</td>\n",
       "      <td>0</td>\n",
       "    </tr>\n",
       "    <tr>\n",
       "      <th>192498</th>\n",
       "      <td>4388551</td>\n",
       "      <td>314</td>\n",
       "      <td>CASH_OUT</td>\n",
       "      <td>2984434.36</td>\n",
       "      <td>C1499429209</td>\n",
       "      <td>2984434.36</td>\n",
       "      <td>0.00</td>\n",
       "      <td>C1399829166</td>\n",
       "      <td>5498919.48</td>\n",
       "      <td>8483353.84</td>\n",
       "      <td>1</td>\n",
       "      <td>0</td>\n",
       "    </tr>\n",
       "    <tr>\n",
       "      <th>192499</th>\n",
       "      <td>6118179</td>\n",
       "      <td>532</td>\n",
       "      <td>TRANSFER</td>\n",
       "      <td>254719.63</td>\n",
       "      <td>C1828919793</td>\n",
       "      <td>254719.63</td>\n",
       "      <td>0.00</td>\n",
       "      <td>C1458046968</td>\n",
       "      <td>0.00</td>\n",
       "      <td>0.00</td>\n",
       "      <td>1</td>\n",
       "      <td>0</td>\n",
       "    </tr>\n",
       "  </tbody>\n",
       "</table>\n",
       "<p>192500 rows × 12 columns</p>\n",
       "</div>"
      ],
      "text/plain": [
       "          index  step      type      amount     nameOrig  oldbalanceOrg  \\\n",
       "0       1577509   155  CASH_OUT   427818.23  C1431817875      198219.00   \n",
       "1       3869859   283   CASH_IN    68154.77   C397915380     2884459.21   \n",
       "2       5516324   380  CASH_OUT    80828.54   C809484944           0.00   \n",
       "3       5490462   380  TRANSFER   106069.89  C1857104283      301258.00   \n",
       "4       5606765   394   PAYMENT    34530.86  C1774638089      200755.00   \n",
       "...         ...   ...       ...         ...          ...            ...   \n",
       "192495  1030778    92  CASH_OUT    19742.71   C931340371       19742.71   \n",
       "192496  5994750   422  CASH_OUT   298365.86  C1916355655      298365.86   \n",
       "192497  6291211   662  TRANSFER  1468304.35   C151325855     1468304.35   \n",
       "192498  4388551   314  CASH_OUT  2984434.36  C1499429209     2984434.36   \n",
       "192499  6118179   532  TRANSFER   254719.63  C1828919793      254719.63   \n",
       "\n",
       "        newbalanceOrig     nameDest  oldbalanceDest  newbalanceDest  isFraud  \\\n",
       "0                 0.00  C2131020093            0.00       427818.23        0   \n",
       "1           2952613.98   C105277746      1030035.29       961880.52        0   \n",
       "2                 0.00   C226553176      5149991.49      5230820.04        0   \n",
       "3            195188.11  C1759851095       263816.83       369886.72        0   \n",
       "4            166224.14  M1074240731            0.00            0.00        0   \n",
       "...                ...          ...             ...             ...      ...   \n",
       "192495            0.00   C781083195      2098671.68      2118414.39        1   \n",
       "192496            0.00  C1396514823            0.00       298365.86        1   \n",
       "192497            0.00  C1135260060            0.00            0.00        1   \n",
       "192498            0.00  C1399829166      5498919.48      8483353.84        1   \n",
       "192499            0.00  C1458046968            0.00            0.00        1   \n",
       "\n",
       "        isFlaggedFraud  \n",
       "0                    0  \n",
       "1                    0  \n",
       "2                    0  \n",
       "3                    0  \n",
       "4                    0  \n",
       "...                ...  \n",
       "192495               0  \n",
       "192496               0  \n",
       "192497               0  \n",
       "192498               0  \n",
       "192499               0  \n",
       "\n",
       "[192500 rows x 12 columns]"
      ]
     },
     "execution_count": 3,
     "metadata": {},
     "output_type": "execute_result"
    }
   ],
   "source": [
    "data = pd.read_csv(\"sampled_aml_df_3.csv\")\n",
    "data"
   ]
  },
  {
   "cell_type": "markdown",
   "id": "f24cab7d",
   "metadata": {},
   "source": [
    "On peut voir que les données comprennent des enregistrements et pour chaque enregistrement, nous avons les attributs de la transaction.\n",
    "\n",
    "**description des variale**O\n",
    "\n",
    "- index: utilisées pour identifier de manière unique les enregistrements  \n",
    "- step : étape\n",
    "- type : le type de transaction\n",
    "- amount : le montant\n",
    "- nameOrigine: l'origine de la transaction\n",
    "- nameDest: la destination de la transaction\n",
    "- "
   ]
  },
  {
   "cell_type": "markdown",
   "id": "6ec0e757",
   "metadata": {},
   "source": [
    "La forme de l'ensemble de données "
   ]
  },
  {
   "cell_type": "code",
   "execution_count": 4,
   "id": "06a30221",
   "metadata": {},
   "outputs": [
    {
     "data": {
      "text/plain": [
       "(192500, 12)"
      ]
     },
     "execution_count": 4,
     "metadata": {},
     "output_type": "execute_result"
    }
   ],
   "source": [
    "data.shape"
   ]
  },
  {
   "cell_type": "markdown",
   "id": "d23c2604",
   "metadata": {},
   "source": [
    "Nous avons un grand nombre d'enregistrement soit:\n",
    "- 192 500 lignes et 12 colonnes  \n",
    "\n",
    "**Description des variables**"
   ]
  },
  {
   "cell_type": "code",
   "execution_count": 5,
   "id": "f201a107",
   "metadata": {},
   "outputs": [
    {
     "name": "stdout",
     "output_type": "stream",
     "text": [
      "<class 'pandas.core.frame.DataFrame'>\n",
      "RangeIndex: 192500 entries, 0 to 192499\n",
      "Data columns (total 12 columns):\n",
      " #   Column          Non-Null Count   Dtype  \n",
      "---  ------          --------------   -----  \n",
      " 0   index           192500 non-null  int64  \n",
      " 1   step            192500 non-null  int64  \n",
      " 2   type            192500 non-null  object \n",
      " 3   amount          192500 non-null  float64\n",
      " 4   nameOrig        192500 non-null  object \n",
      " 5   oldbalanceOrg   192500 non-null  float64\n",
      " 6   newbalanceOrig  192500 non-null  float64\n",
      " 7   nameDest        192500 non-null  object \n",
      " 8   oldbalanceDest  192500 non-null  float64\n",
      " 9   newbalanceDest  192500 non-null  float64\n",
      " 10  isFraud         192500 non-null  int64  \n",
      " 11  isFlaggedFraud  192500 non-null  int64  \n",
      "dtypes: float64(5), int64(4), object(3)\n",
      "memory usage: 17.6+ MB\n"
     ]
    }
   ],
   "source": [
    "data.info()"
   ]
  },
  {
   "cell_type": "markdown",
   "id": "2a92ae1e",
   "metadata": {},
   "source": [
    "On voit que nous avons des variables quantitatives continues, discrètes et les variables de type Object\n",
    "\n",
    "**Vérifions la présence des valeurs manquantes**"
   ]
  },
  {
   "cell_type": "code",
   "execution_count": 6,
   "id": "434657eb",
   "metadata": {},
   "outputs": [
    {
     "data": {
      "text/plain": [
       "index             0\n",
       "step              0\n",
       "type              0\n",
       "amount            0\n",
       "nameOrig          0\n",
       "oldbalanceOrg     0\n",
       "newbalanceOrig    0\n",
       "nameDest          0\n",
       "oldbalanceDest    0\n",
       "newbalanceDest    0\n",
       "isFraud           0\n",
       "isFlaggedFraud    0\n",
       "dtype: int64"
      ]
     },
     "execution_count": 6,
     "metadata": {},
     "output_type": "execute_result"
    }
   ],
   "source": [
    "data.isnull().sum()"
   ]
  },
  {
   "cell_type": "markdown",
   "id": "d65add59",
   "metadata": {},
   "source": [
    "Nous disposons d'un ensemble de données propre avec absolument aucune valeur manquante"
   ]
  },
  {
   "cell_type": "code",
   "execution_count": 14,
   "id": "87e823ac",
   "metadata": {},
   "outputs": [
    {
     "data": {
      "text/html": [
       "<div>\n",
       "<style scoped>\n",
       "    .dataframe tbody tr th:only-of-type {\n",
       "        vertical-align: middle;\n",
       "    }\n",
       "\n",
       "    .dataframe tbody tr th {\n",
       "        vertical-align: top;\n",
       "    }\n",
       "\n",
       "    .dataframe thead th {\n",
       "        text-align: right;\n",
       "    }\n",
       "</style>\n",
       "<table border=\"1\" class=\"dataframe\">\n",
       "  <thead>\n",
       "    <tr style=\"text-align: right;\">\n",
       "      <th></th>\n",
       "      <th>step</th>\n",
       "      <th>amount</th>\n",
       "      <th>oldbalanceOrg</th>\n",
       "      <th>newbalanceOrig</th>\n",
       "      <th>oldbalanceDest</th>\n",
       "      <th>newbalanceDest</th>\n",
       "      <th>isFraud</th>\n",
       "      <th>isFlaggedFraud</th>\n",
       "    </tr>\n",
       "  </thead>\n",
       "  <tbody>\n",
       "    <tr>\n",
       "      <th>count</th>\n",
       "      <td>192500.000000</td>\n",
       "      <td>1.925000e+05</td>\n",
       "      <td>1.925000e+05</td>\n",
       "      <td>1.925000e+05</td>\n",
       "      <td>1.925000e+05</td>\n",
       "      <td>1.925000e+05</td>\n",
       "      <td>192500.000000</td>\n",
       "      <td>192500.000000</td>\n",
       "    </tr>\n",
       "    <tr>\n",
       "      <th>mean</th>\n",
       "      <td>247.825377</td>\n",
       "      <td>2.261676e+05</td>\n",
       "      <td>8.616604e+05</td>\n",
       "      <td>8.270867e+05</td>\n",
       "      <td>1.084274e+06</td>\n",
       "      <td>1.230771e+06</td>\n",
       "      <td>0.038961</td>\n",
       "      <td>0.000083</td>\n",
       "    </tr>\n",
       "    <tr>\n",
       "      <th>std</th>\n",
       "      <td>147.685363</td>\n",
       "      <td>7.720697e+05</td>\n",
       "      <td>2.912266e+06</td>\n",
       "      <td>2.887263e+06</td>\n",
       "      <td>3.297716e+06</td>\n",
       "      <td>3.575349e+06</td>\n",
       "      <td>0.193503</td>\n",
       "      <td>0.009116</td>\n",
       "    </tr>\n",
       "    <tr>\n",
       "      <th>min</th>\n",
       "      <td>1.000000</td>\n",
       "      <td>0.000000e+00</td>\n",
       "      <td>0.000000e+00</td>\n",
       "      <td>0.000000e+00</td>\n",
       "      <td>0.000000e+00</td>\n",
       "      <td>0.000000e+00</td>\n",
       "      <td>0.000000</td>\n",
       "      <td>0.000000</td>\n",
       "    </tr>\n",
       "    <tr>\n",
       "      <th>25%</th>\n",
       "      <td>156.000000</td>\n",
       "      <td>1.401661e+04</td>\n",
       "      <td>0.000000e+00</td>\n",
       "      <td>0.000000e+00</td>\n",
       "      <td>0.000000e+00</td>\n",
       "      <td>0.000000e+00</td>\n",
       "      <td>0.000000</td>\n",
       "      <td>0.000000</td>\n",
       "    </tr>\n",
       "    <tr>\n",
       "      <th>50%</th>\n",
       "      <td>249.000000</td>\n",
       "      <td>8.060089e+04</td>\n",
       "      <td>1.696019e+04</td>\n",
       "      <td>0.000000e+00</td>\n",
       "      <td>1.144710e+05</td>\n",
       "      <td>2.091728e+05</td>\n",
       "      <td>0.000000</td>\n",
       "      <td>0.000000</td>\n",
       "    </tr>\n",
       "    <tr>\n",
       "      <th>75%</th>\n",
       "      <td>347.000000</td>\n",
       "      <td>2.188217e+05</td>\n",
       "      <td>1.336372e+05</td>\n",
       "      <td>1.290969e+05</td>\n",
       "      <td>9.127214e+05</td>\n",
       "      <td>1.115385e+06</td>\n",
       "      <td>0.000000</td>\n",
       "      <td>0.000000</td>\n",
       "    </tr>\n",
       "    <tr>\n",
       "      <th>max</th>\n",
       "      <td>743.000000</td>\n",
       "      <td>6.988673e+07</td>\n",
       "      <td>5.958504e+07</td>\n",
       "      <td>4.958504e+07</td>\n",
       "      <td>2.511150e+08</td>\n",
       "      <td>2.506381e+08</td>\n",
       "      <td>1.000000</td>\n",
       "      <td>1.000000</td>\n",
       "    </tr>\n",
       "  </tbody>\n",
       "</table>\n",
       "</div>"
      ],
      "text/plain": [
       "                step        amount  oldbalanceOrg  newbalanceOrig  \\\n",
       "count  192500.000000  1.925000e+05   1.925000e+05    1.925000e+05   \n",
       "mean      247.825377  2.261676e+05   8.616604e+05    8.270867e+05   \n",
       "std       147.685363  7.720697e+05   2.912266e+06    2.887263e+06   \n",
       "min         1.000000  0.000000e+00   0.000000e+00    0.000000e+00   \n",
       "25%       156.000000  1.401661e+04   0.000000e+00    0.000000e+00   \n",
       "50%       249.000000  8.060089e+04   1.696019e+04    0.000000e+00   \n",
       "75%       347.000000  2.188217e+05   1.336372e+05    1.290969e+05   \n",
       "max       743.000000  6.988673e+07   5.958504e+07    4.958504e+07   \n",
       "\n",
       "       oldbalanceDest  newbalanceDest        isFraud  isFlaggedFraud  \n",
       "count    1.925000e+05    1.925000e+05  192500.000000   192500.000000  \n",
       "mean     1.084274e+06    1.230771e+06       0.038961        0.000083  \n",
       "std      3.297716e+06    3.575349e+06       0.193503        0.009116  \n",
       "min      0.000000e+00    0.000000e+00       0.000000        0.000000  \n",
       "25%      0.000000e+00    0.000000e+00       0.000000        0.000000  \n",
       "50%      1.144710e+05    2.091728e+05       0.000000        0.000000  \n",
       "75%      9.127214e+05    1.115385e+06       0.000000        0.000000  \n",
       "max      2.511150e+08    2.506381e+08       1.000000        1.000000  "
      ]
     },
     "execution_count": 14,
     "metadata": {},
     "output_type": "execute_result"
    }
   ],
   "source": [
    "data.describe()"
   ]
  },
  {
   "cell_type": "markdown",
   "id": "99d6b0c8",
   "metadata": {},
   "source": [
    "**Analyse univarié**"
   ]
  },
  {
   "cell_type": "code",
   "execution_count": 7,
   "id": "ae6d13b2",
   "metadata": {},
   "outputs": [
    {
     "data": {
      "text/plain": [
       "168929"
      ]
     },
     "execution_count": 7,
     "metadata": {},
     "output_type": "execute_result"
    }
   ],
   "source": [
    "data['nameDest'].nunique\n",
    "# nameDest contient l'identifiant de la personne qui a reçu le montant de la transaction\n"
   ]
  },
  {
   "cell_type": "markdown",
   "id": "78debc0c",
   "metadata": {},
   "source": [
    "Nous avons un total de 168.000 noms à peu près uniques"
   ]
  },
  {
   "cell_type": "code",
   "execution_count": 9,
   "id": "7f202d9e",
   "metadata": {},
   "outputs": [
    {
     "data": {
      "text/plain": [
       "192494"
      ]
     },
     "execution_count": 9,
     "metadata": {},
     "output_type": "execute_result"
    }
   ],
   "source": [
    "data['nameOrig'].nunique()\n",
    "# nameOrig contient l'identifiant de la personne qui a transféré le montant de la transaction"
   ]
  },
  {
   "cell_type": "markdown",
   "id": "ecc42df7",
   "metadata": {},
   "source": [
    "On constate égalément que la variable **nameOrig** a un grand nombre de valeur unique\n",
    "\n",
    "les enregistrement qui ont un grand nombre de valeurs unique n'ont pas beaucoup de pouvoir prédictif"
   ]
  },
  {
   "cell_type": "code",
   "execution_count": 10,
   "id": "58628c3a",
   "metadata": {},
   "outputs": [
    {
     "data": {
      "text/html": [
       "<div>\n",
       "<style scoped>\n",
       "    .dataframe tbody tr th:only-of-type {\n",
       "        vertical-align: middle;\n",
       "    }\n",
       "\n",
       "    .dataframe tbody tr th {\n",
       "        vertical-align: top;\n",
       "    }\n",
       "\n",
       "    .dataframe thead th {\n",
       "        text-align: right;\n",
       "    }\n",
       "</style>\n",
       "<table border=\"1\" class=\"dataframe\">\n",
       "  <thead>\n",
       "    <tr style=\"text-align: right;\">\n",
       "      <th></th>\n",
       "      <th>step</th>\n",
       "      <th>type</th>\n",
       "      <th>amount</th>\n",
       "      <th>oldbalanceOrg</th>\n",
       "      <th>newbalanceOrig</th>\n",
       "      <th>oldbalanceDest</th>\n",
       "      <th>newbalanceDest</th>\n",
       "      <th>isFraud</th>\n",
       "      <th>isFlaggedFraud</th>\n",
       "    </tr>\n",
       "  </thead>\n",
       "  <tbody>\n",
       "    <tr>\n",
       "      <th>56170</th>\n",
       "      <td>490</td>\n",
       "      <td>CASH_OUT</td>\n",
       "      <td>148781.02</td>\n",
       "      <td>0.00</td>\n",
       "      <td>0.00</td>\n",
       "      <td>154883.35</td>\n",
       "      <td>303664.37</td>\n",
       "      <td>0</td>\n",
       "      <td>0</td>\n",
       "    </tr>\n",
       "    <tr>\n",
       "      <th>35567</th>\n",
       "      <td>39</td>\n",
       "      <td>CASH_IN</td>\n",
       "      <td>118704.14</td>\n",
       "      <td>1282790.91</td>\n",
       "      <td>1401495.06</td>\n",
       "      <td>1204447.06</td>\n",
       "      <td>1085742.91</td>\n",
       "      <td>0</td>\n",
       "      <td>0</td>\n",
       "    </tr>\n",
       "    <tr>\n",
       "      <th>43204</th>\n",
       "      <td>588</td>\n",
       "      <td>CASH_OUT</td>\n",
       "      <td>98486.25</td>\n",
       "      <td>0.00</td>\n",
       "      <td>0.00</td>\n",
       "      <td>569438.48</td>\n",
       "      <td>667924.73</td>\n",
       "      <td>0</td>\n",
       "      <td>0</td>\n",
       "    </tr>\n",
       "    <tr>\n",
       "      <th>65605</th>\n",
       "      <td>134</td>\n",
       "      <td>CASH_OUT</td>\n",
       "      <td>108289.80</td>\n",
       "      <td>0.00</td>\n",
       "      <td>0.00</td>\n",
       "      <td>1479577.37</td>\n",
       "      <td>1587867.18</td>\n",
       "      <td>0</td>\n",
       "      <td>0</td>\n",
       "    </tr>\n",
       "    <tr>\n",
       "      <th>135272</th>\n",
       "      <td>201</td>\n",
       "      <td>CASH_OUT</td>\n",
       "      <td>395955.74</td>\n",
       "      <td>94138.00</td>\n",
       "      <td>0.00</td>\n",
       "      <td>210388.10</td>\n",
       "      <td>606343.85</td>\n",
       "      <td>0</td>\n",
       "      <td>0</td>\n",
       "    </tr>\n",
       "  </tbody>\n",
       "</table>\n",
       "</div>"
      ],
      "text/plain": [
       "        step      type     amount  oldbalanceOrg  newbalanceOrig  \\\n",
       "56170    490  CASH_OUT  148781.02           0.00            0.00   \n",
       "35567     39   CASH_IN  118704.14     1282790.91      1401495.06   \n",
       "43204    588  CASH_OUT   98486.25           0.00            0.00   \n",
       "65605    134  CASH_OUT  108289.80           0.00            0.00   \n",
       "135272   201  CASH_OUT  395955.74       94138.00            0.00   \n",
       "\n",
       "        oldbalanceDest  newbalanceDest  isFraud  isFlaggedFraud  \n",
       "56170        154883.35       303664.37        0               0  \n",
       "35567       1204447.06      1085742.91        0               0  \n",
       "43204        569438.48       667924.73        0               0  \n",
       "65605       1479577.37      1587867.18        0               0  \n",
       "135272       210388.10       606343.85        0               0  "
      ]
     },
     "execution_count": 10,
     "metadata": {},
     "output_type": "execute_result"
    }
   ],
   "source": [
    "# suppression de trois colonnes\n",
    "data = data.drop(labels = ['index', 'nameOrig', 'nameDest'], axis=1)\n",
    "\n",
    "data.sample(5)"
   ]
  },
  {
   "cell_type": "markdown",
   "id": "9e0fd42b",
   "metadata": {},
   "source": [
    "**Déterminons le nombre de transaction frauduleuse**\n",
    "\n",
    "**NB**\n",
    "\n",
    "- 0 : Non frauduleux\n",
    "- 1 : Frauduleux"
   ]
  },
  {
   "cell_type": "code",
   "execution_count": 12,
   "id": "2553cf43",
   "metadata": {},
   "outputs": [
    {
     "data": {
      "text/plain": [
       "0    185000\n",
       "1      7500\n",
       "Name: isFraud, dtype: int64"
      ]
     },
     "execution_count": 12,
     "metadata": {},
     "output_type": "execute_result"
    }
   ],
   "source": [
    "data['isFraud'].value_counts()"
   ]
  },
  {
   "cell_type": "markdown",
   "id": "920d791c",
   "metadata": {},
   "source": [
    "Le résultat nous montre que nous disposons d'un ensemble de données très asymétrique. Sur environ 192 000 enregistrements seuls **7 500** ont été étiquetés comme **frauduleux**"
   ]
  },
  {
   "cell_type": "markdown",
   "id": "b9602d50",
   "metadata": {},
   "source": [
    "**Visualisation**"
   ]
  },
  {
   "cell_type": "code",
   "execution_count": 13,
   "id": "37a2ccdc",
   "metadata": {},
   "outputs": [
    {
     "data": {
      "image/png": "[encoded data removed]",
      "text/plain": [
       "<Figure size 1000x600 with 1 Axes>"
      ]
     },
     "metadata": {},
     "output_type": "display_data"
    }
   ],
   "source": [
    "plt.figure(figsize = (10, 6))\n",
    "\n",
    "sns.countplot(x='isFraud', data = data);"
   ]
  },
  {
   "cell_type": "code",
   "execution_count": null,
   "id": "2bfcd7b9",
   "metadata": {},
   "outputs": [],
   "source": []
  }
 ],
 "metadata": {
  "kernelspec": {
   "display_name": "Python 3 (ipykernel)",
   "language": "python",
   "name": "python3"
  },
  "language_info": {
   "codemirror_mode": {
    "name": "ipython",
    "version": 3
   },
   "file_extension": ".py",
   "mimetype": "text/x-python",
   "name": "python",
   "nbconvert_exporter": "python",
   "pygments_lexer": "ipython3",
   "version": "3.9.13"
  }
 },
 "nbformat": 4,
 "nbformat_minor": 5
}
